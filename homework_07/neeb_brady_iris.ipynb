{
 "cells": [
  {
   "cell_type": "markdown",
   "metadata": {
    "collapsed": true,
    "pycharm": {
     "name": "#%% md\n"
    }
   },
   "source": [
    "# Saint Michael's College - CS 415 Artificial Intelligence\n",
    "## Logistic Regression and Decision Boundary\n",
    "### Iris Data Set\n",
    "\n",
    "Submissions should be in `ipynb` format (modifying this document) and should run on Chrome, Safari, or Firefox. These are the browsers that are officially supported by Jupyter. Your notebook should be named\n",
    "\n",
    "\\[your last name\\]_\\[your first name\\]_iris.ipynb\n",
    "\n",
    "_e.g._, west_kanye_iris.ipynb.\n",
    "\n",
    "While PEP-8 should always be the default for writing Python code, it is quite common in the world of machine learning to use upper case, single letter variable names for matrices and vectors, _e.g._, X, Y, Z. We will use this convention with the understanding that we are deviating from PEP-8 for very specific, and well-defined reasons. Other deviations from PEP-8 are discouraged.\n",
    "\n",
    "**Please leave Markdown cells intact in your submissions.** Thanks.\n",
    "<br />\n",
    "\n",
    "### Rubric:\n",
    "\n",
    "| task                                          | points |\n",
    "|:----------------------------------------------|-------:|\n",
    "| visualizing data                              |      3 |\n",
    "| preparing data                                |      2 |\n",
    "| vectorized sigmoid function                   |      3 |\n",
    "| vectorized cost function                      |      5 |\n",
    "| vectorized gradient function                  |      3 |\n",
    "| implement gradient descent                    |      5 |\n",
    "| train model                                   |      5 |\n",
    "| implement prediction probability function     |      3 |\n",
    "| make prediction                               |      3 |\n",
    "| write function to calculate decision boundary |      3 |\n",
    "| plot the decision boundary                    |      5 |\n",
    "| TOTAL                                         |     40 |\n",
    "\n",
    "#### Due: Tuesday, 2022-03-29 11:59 PM"
   ]
  },
  {
   "cell_type": "markdown",
   "metadata": {
    "pycharm": {
     "name": "#%% md\n"
    }
   },
   "source": [
    "_Note on equations and formulae_: Current versions of Jupyter Notebook have MathJax support built in for rendering equations using LaTeX. If for any reason, you do not see equations and formulae properly rendered in this document, please contact me right away, and let me know the version of Jupyter you are using. Thanks."
   ]
  },
  {
   "cell_type": "code",
   "execution_count": 576,
   "metadata": {
    "pycharm": {
     "name": "#%%\n"
    }
   },
   "outputs": [],
   "source": [
    "import os\n",
    "import numpy as np\n",
    "import pandas as pd\n",
    "import matplotlib.pyplot as plt\n",
    "\n",
    "# We use the matplotlib inline backend so that the output of plots is displayed inline within the Jupyter notebook (and not creating new windows or files). This is accomplished with the following directive:\n",
    "%matplotlib inline"
   ]
  },
  {
   "cell_type": "markdown",
   "metadata": {
    "pycharm": {
     "name": "#%% md\n"
    }
   },
   "source": [
    "## Introduction\n",
    "\n",
    "The iris is a common flower in many temperate zone flower gardens. In this exercise, you will implement logistic regression (DIY, not using Scikit-Learn), and then use your implementation for binary classification of iris data into one of two species, _Iris setosa_ or _Iris versicolor_.\n",
    "\n",
    "![](iris_setosa.jpg)\n",
    "_Iris setosa_\n",
    "\n",
    "![](iris_versicolor.jpg)\n",
    "_Iris versicolor_\n",
    "\n",
    "Image source: [Southern Illinois University Phyto Images](http://www.phytoimages.siu.edu/)\n",
    "\n",
    "For this, you'll use the dataset contained in `iris.csv` (provided).\n",
    "\n",
    "In this dataset there are two features: petal length (`PetalLengthCm`) and petal width (`PetalWidthCm`). These two features are diagnostic of the species in question---_Iris setosa_ and _Iris versicolor_. Species labels in the training data appear in the `species` column. _Iris setosa_ is labeled 0 and _Iris versicolor_ is labeled 1.\n",
    "\n",
    "This dataset is a subset of data from R. A. Fisher's classic 1936 paper \"The use of multiple measurements in taxonomic problems.\" For more information, see: [https://archive.ics.uci.edu/ml/datasets/Iris](https://archive.ics.uci.edu/ml/datasets/Iris)\n",
    "\n",
    "Your task will be to produce a decision boundary which can be used to classify instances of _Iris setosa_ or _Iris versicolor_."
   ]
  },
  {
   "cell_type": "markdown",
   "metadata": {
    "pycharm": {
     "name": "#%% md\n"
    }
   },
   "source": [
    "## Familiarize yourself with the data"
   ]
  },
  {
   "cell_type": "code",
   "execution_count": 577,
   "metadata": {
    "pycharm": {
     "name": "#%%\n"
    }
   },
   "outputs": [
    {
     "name": "stdout",
     "output_type": "stream",
     "text": [
      "    PetalLengthCm  PetalWidthCm\n",
      "0             1.4           0.2\n",
      "1             1.4           0.2\n",
      "2             1.3           0.2\n",
      "3             1.5           0.2\n",
      "4             1.4           0.2\n",
      "..            ...           ...\n",
      "95            4.2           1.2\n",
      "96            4.2           1.3\n",
      "97            4.3           1.3\n",
      "98            3.0           1.1\n",
      "99            4.1           1.3\n",
      "\n",
      "[100 rows x 2 columns]\n",
      "    Species\n",
      "0         0\n",
      "1         0\n",
      "2         0\n",
      "3         0\n",
      "4         0\n",
      "..      ...\n",
      "95        1\n",
      "96        1\n",
      "97        1\n",
      "98        1\n",
      "99        1\n",
      "\n",
      "[100 rows x 1 columns]\n"
     ]
    }
   ],
   "source": [
    "# Get the full path to iris.csv\n",
    "# (assumes iris.csv in current working directory)\n",
    "fn = os.path.join(os.getcwd(), 'iris.csv')\n",
    "data = pd.read_csv(fn)\n",
    "cols = data.shape[1]\n",
    "X = data.iloc[:, 1:cols - 1]\n",
    "Y = data.iloc[:, cols - 1:cols]\n",
    "print(X)\n",
    "print(Y)"
   ]
  },
  {
   "cell_type": "markdown",
   "metadata": {
    "pycharm": {
     "name": "#%% md\n"
    }
   },
   "source": [
    "### Visualize the data (3 points)\n",
    "\n",
    "For visualization, plot petal length on the abscissa (x-axis) and petal width on the ordinate (y-axis). Use a + symbol for _Iris setosa_ and circles for _Iris versicolor_. Hint: You'll want to use Pandas' `groupby` method to group by species, and Matplotlib for the plot."
   ]
  },
  {
   "cell_type": "code",
   "execution_count": 578,
   "metadata": {},
   "outputs": [
    {
     "name": "stderr",
     "output_type": "stream",
     "text": [
      "*c* argument looks like a single numeric RGB or RGBA sequence, which should be avoided as value-mapping will have precedence in case its length matches with *x* & *y*.  Please use the *color* keyword-argument or provide a 2D array with a single row if you intend to specify the same RGB or RGBA value for all points.\n",
      "*c* argument looks like a single numeric RGB or RGBA sequence, which should be avoided as value-mapping will have precedence in case its length matches with *x* & *y*.  Please use the *color* keyword-argument or provide a 2D array with a single row if you intend to specify the same RGB or RGBA value for all points.\n"
     ]
    },
    {
     "data": {
      "text/plain": [
       "Species\n",
       "0    AxesSubplot(0.125,0.125;0.775x0.755)\n",
       "1    AxesSubplot(0.125,0.125;0.775x0.755)\n",
       "dtype: object"
      ]
     },
     "execution_count": 578,
     "metadata": {},
     "output_type": "execute_result"
    },
    {
     "data": {
      "image/png": "[encoded data removed]",
      "text/plain": [
       "<Figure size 576x432 with 1 Axes>"
      ]
     },
     "metadata": {
      "needs_background": "light"
     },
     "output_type": "display_data"
    }
   ],
   "source": [
    "markers = {0: {'marker': '+', 'name': 'setosa'},\n",
    "           1: {'marker': 'o', 'name': 'versicolor'}}\n",
    "\n",
    "# Code for plot here ...\n",
    "fig, ax = plt.subplots(figsize=(8,6))\n",
    "data.groupby(['Species']).plot.scatter(x='PetalLengthCm', y='PetalWidthCm', ax=ax)"
   ]
  },
  {
   "cell_type": "markdown",
   "metadata": {},
   "source": [
    "Your plot should look something like this\n",
    "\n",
    "![](visualization.png).\n",
    "\n",
    "Don't fuss over the finer points such as axis tick marks or legend position."
   ]
  },
  {
   "cell_type": "markdown",
   "metadata": {
    "pycharm": {
     "name": "#%% md\n"
    }
   },
   "source": [
    "## Prepare data for training"
   ]
  },
  {
   "cell_type": "markdown",
   "metadata": {},
   "source": [
    "### Add bias and convert Pandas dataframes to NumPy matrices. (2 points)\n",
    "\n",
    "Now prepare data for training. First, add a column for bias (make this the first column in X) and convert the resulting Pandas dataframe to a NumPy matrix."
   ]
  },
  {
   "cell_type": "code",
   "execution_count": 579,
   "metadata": {
    "pycharm": {
     "name": "#%%\n"
    }
   },
   "outputs": [
    {
     "name": "stdout",
     "output_type": "stream",
     "text": [
      "[[0.  1.4 0.2]\n",
      " [0.  1.4 0.2]\n",
      " [0.  1.3 0.2]\n",
      " [0.  1.5 0.2]\n",
      " [0.  1.4 0.2]\n",
      " [0.  1.7 0.4]\n",
      " [0.  1.4 0.3]\n",
      " [0.  1.5 0.2]\n",
      " [0.  1.4 0.2]\n",
      " [0.  1.5 0.1]\n",
      " [0.  1.5 0.2]\n",
      " [0.  1.6 0.2]\n",
      " [0.  1.4 0.1]\n",
      " [0.  1.1 0.1]\n",
      " [0.  1.2 0.2]\n",
      " [0.  1.5 0.4]\n",
      " [0.  1.3 0.4]\n",
      " [0.  1.4 0.3]\n",
      " [0.  1.7 0.3]\n",
      " [0.  1.5 0.3]\n",
      " [0.  1.7 0.2]\n",
      " [0.  1.5 0.4]\n",
      " [0.  1.  0.2]\n",
      " [0.  1.7 0.5]\n",
      " [0.  1.9 0.2]\n",
      " [0.  1.6 0.2]\n",
      " [0.  1.6 0.4]\n",
      " [0.  1.5 0.2]\n",
      " [0.  1.4 0.2]\n",
      " [0.  1.6 0.2]\n",
      " [0.  1.6 0.2]\n",
      " [0.  1.5 0.4]\n",
      " [0.  1.5 0.1]\n",
      " [0.  1.4 0.2]\n",
      " [0.  1.5 0.1]\n",
      " [0.  1.2 0.2]\n",
      " [0.  1.3 0.2]\n",
      " [0.  1.5 0.1]\n",
      " [0.  1.3 0.2]\n",
      " [0.  1.5 0.2]\n",
      " [0.  1.3 0.3]\n",
      " [0.  1.3 0.3]\n",
      " [0.  1.3 0.2]\n",
      " [0.  1.6 0.6]\n",
      " [0.  1.9 0.4]\n",
      " [0.  1.4 0.3]\n",
      " [0.  1.6 0.2]\n",
      " [0.  1.4 0.2]\n",
      " [0.  1.5 0.2]\n",
      " [0.  1.4 0.2]\n",
      " [0.  4.7 1.4]\n",
      " [0.  4.5 1.5]\n",
      " [0.  4.9 1.5]\n",
      " [0.  4.  1.3]\n",
      " [0.  4.6 1.5]\n",
      " [0.  4.5 1.3]\n",
      " [0.  4.7 1.6]\n",
      " [0.  3.3 1. ]\n",
      " [0.  4.6 1.3]\n",
      " [0.  3.9 1.4]\n",
      " [0.  3.5 1. ]\n",
      " [0.  4.2 1.5]\n",
      " [0.  4.  1. ]\n",
      " [0.  4.7 1.4]\n",
      " [0.  3.6 1.3]\n",
      " [0.  4.4 1.4]\n",
      " [0.  4.5 1.5]\n",
      " [0.  4.1 1. ]\n",
      " [0.  4.5 1.5]\n",
      " [0.  3.9 1.1]\n",
      " [0.  4.8 1.8]\n",
      " [0.  4.  1.3]\n",
      " [0.  4.9 1.5]\n",
      " [0.  4.7 1.2]\n",
      " [0.  4.3 1.3]\n",
      " [0.  4.4 1.4]\n",
      " [0.  4.8 1.4]\n",
      " [0.  5.  1.7]\n",
      " [0.  4.5 1.5]\n",
      " [0.  3.5 1. ]\n",
      " [0.  3.8 1.1]\n",
      " [0.  3.7 1. ]\n",
      " [0.  3.9 1.2]\n",
      " [0.  5.1 1.6]\n",
      " [0.  4.5 1.5]\n",
      " [0.  4.5 1.6]\n",
      " [0.  4.7 1.5]\n",
      " [0.  4.4 1.3]\n",
      " [0.  4.1 1.3]\n",
      " [0.  4.  1.3]\n",
      " [0.  4.4 1.2]\n",
      " [0.  4.6 1.4]\n",
      " [0.  4.  1.2]\n",
      " [0.  3.3 1. ]\n",
      " [0.  4.2 1.3]\n",
      " [0.  4.2 1.2]\n",
      " [0.  4.2 1.3]\n",
      " [0.  4.3 1.3]\n",
      " [0.  3.  1.1]\n",
      " [0.  4.1 1.3]]\n"
     ]
    }
   ],
   "source": [
    "# Add column for bias\n",
    "# X =  # Get np.matrix from Pandas DataFrame\n",
    "X.insert(0, 'Bias', 0)\n",
    "X = np.matrix(X)\n",
    "print(X)"
   ]
  },
  {
   "cell_type": "markdown",
   "metadata": {},
   "source": [
    "Next, convert Y to a NumPy matrix."
   ]
  },
  {
   "cell_type": "code",
   "execution_count": 580,
   "metadata": {
    "pycharm": {
     "name": "#%%\n"
    }
   },
   "outputs": [
    {
     "name": "stdout",
     "output_type": "stream",
     "text": [
      "[[0]\n",
      " [0]\n",
      " [0]\n",
      " [0]\n",
      " [0]\n",
      " [0]\n",
      " [0]\n",
      " [0]\n",
      " [0]\n",
      " [0]\n",
      " [0]\n",
      " [0]\n",
      " [0]\n",
      " [0]\n",
      " [0]\n",
      " [0]\n",
      " [0]\n",
      " [0]\n",
      " [0]\n",
      " [0]\n",
      " [0]\n",
      " [0]\n",
      " [0]\n",
      " [0]\n",
      " [0]\n",
      " [0]\n",
      " [0]\n",
      " [0]\n",
      " [0]\n",
      " [0]\n",
      " [0]\n",
      " [0]\n",
      " [0]\n",
      " [0]\n",
      " [0]\n",
      " [0]\n",
      " [0]\n",
      " [0]\n",
      " [0]\n",
      " [0]\n",
      " [0]\n",
      " [0]\n",
      " [0]\n",
      " [0]\n",
      " [0]\n",
      " [0]\n",
      " [0]\n",
      " [0]\n",
      " [0]\n",
      " [0]\n",
      " [1]\n",
      " [1]\n",
      " [1]\n",
      " [1]\n",
      " [1]\n",
      " [1]\n",
      " [1]\n",
      " [1]\n",
      " [1]\n",
      " [1]\n",
      " [1]\n",
      " [1]\n",
      " [1]\n",
      " [1]\n",
      " [1]\n",
      " [1]\n",
      " [1]\n",
      " [1]\n",
      " [1]\n",
      " [1]\n",
      " [1]\n",
      " [1]\n",
      " [1]\n",
      " [1]\n",
      " [1]\n",
      " [1]\n",
      " [1]\n",
      " [1]\n",
      " [1]\n",
      " [1]\n",
      " [1]\n",
      " [1]\n",
      " [1]\n",
      " [1]\n",
      " [1]\n",
      " [1]\n",
      " [1]\n",
      " [1]\n",
      " [1]\n",
      " [1]\n",
      " [1]\n",
      " [1]\n",
      " [1]\n",
      " [1]\n",
      " [1]\n",
      " [1]\n",
      " [1]\n",
      " [1]\n",
      " [1]\n",
      " [1]]\n"
     ]
    }
   ],
   "source": [
    "Y = np.matrix(Y)\n",
    "print(Y)"
   ]
  },
  {
   "cell_type": "markdown",
   "metadata": {},
   "source": [
    "At this point, X and Y should be of type `np.matrix` and they should have shapes (100, 3) and (100, 1) respectively."
   ]
  },
  {
   "cell_type": "code",
   "execution_count": 581,
   "metadata": {
    "pycharm": {
     "name": "#%%\n"
    }
   },
   "outputs": [],
   "source": [
    "assert isinstance(X, np.matrix)\n",
    "assert isinstance(Y, np.matrix)\n",
    "assert X.shape == (100, 3)\n",
    "assert Y.shape == (100, 1)"
   ]
  },
  {
   "cell_type": "markdown",
   "metadata": {},
   "source": [
    "## Sigmoid function\n",
    "\n",
    "### Implement a vectorized sigmoid function (3 points)\n",
    "\n",
    "The sigmoid function will map all input values to the range (0.0, 1.0) and it is given by\n",
    "<br />\n",
    "\n",
    "$\\Large{h_\\theta(x) = \\frac{1}{1 + e^{-x}}}$"
   ]
  },
  {
   "cell_type": "code",
   "execution_count": 582,
   "metadata": {
    "pycharm": {
     "name": "#%%\n"
    }
   },
   "outputs": [],
   "source": [
    "# This function should return a vector (ndarray) with the dimension of Z.\n",
    "# The body of this function should be a single line of code.\n",
    "\n",
    "def sigmoid(Z):\n",
    "    \"\"\"\n",
    "    Sigmoid function\n",
    "    Z: an int or a numpy.ndarray\n",
    "    \"\"\"\n",
    "\n",
    "    return (1 / (1 + np.exp(-Z)))\n"
   ]
  },
  {
   "cell_type": "code",
   "execution_count": 583,
   "metadata": {
    "pycharm": {
     "name": "#%%\n"
    }
   },
   "outputs": [
    {
     "data": {
      "text/plain": [
       "[<matplotlib.lines.Line2D at 0x25a63568d60>]"
      ]
     },
     "execution_count": 583,
     "metadata": {},
     "output_type": "execute_result"
    },
    {
     "data": {
      "image/png": "[encoded data removed]",
      "text/plain": [
       "<Figure size 432x288 with 1 Axes>"
      ]
     },
     "metadata": {
      "needs_background": "light"
     },
     "output_type": "display_data"
    }
   ],
   "source": [
    "# Here are some assertions to test your sigmoid function.\n",
    "# If your sigmoid function is correct, these assertions should hold.\n",
    "assert sigmoid(0) == 0.5, \"The sigmoid function is wrong.\"\n",
    "assert 1.0001 > sigmoid(100) > 0.9999, \"The sigmoid function is wrong.\"\n",
    "assert -0.0001 < sigmoid(-100) < 0.0001, \"The sigmoid function is wrong.\"\n",
    "X_test = np.linspace(-10, 10)\n",
    "Y_test = sigmoid(X_test)\n",
    "plt.plot(X_test, Y_test)"
   ]
  },
  {
   "cell_type": "markdown",
   "metadata": {},
   "source": [
    "Your plot should look something like this\n",
    "![](sigmoid_plot.png)"
   ]
  },
  {
   "cell_type": "markdown",
   "metadata": {},
   "source": [
    "## Cost function\n",
    "\n",
    "### Implement a vectorized cost function (5 points)\n",
    "\n",
    "The cost function should use the sigmoid function (implemented above) and is given by:\n",
    "<br />\n",
    "\n",
    "$\\Large{J(\\theta) = -\\frac{1}{m}\\sum_{i=1}^m \\Big(y^{(i)} \\;\\text{log}\\big(h_\\theta(x^{(i)})\\big) + \\big(1 - y^{(i)}\\big) \\;\\text{log}\\big(1 - h_\\theta(x^{(i)})\\big)\\Big)}$"
   ]
  },
  {
   "cell_type": "code",
   "execution_count": 584,
   "metadata": {
    "pycharm": {
     "name": "#%%\n"
    }
   },
   "outputs": [],
   "source": [
    "def calc_log_cost(X, Y, theta_):\n",
    "    \"\"\"Calculate logistic regression cost\n",
    "    You should NOT use loops. This should be vectorized.\n",
    "\n",
    "    X: numpy.matrix, feature vector\n",
    "    y: numpy.matrix, target / output vector\n",
    "    theta_: numpy.ndarray, weight vector\n",
    "    return: float\n",
    "    \"\"\"\n",
    "    # Complete this function...\n",
    "    m = -(1 / Y.size)\n",
    "    M = np.sum(np.multiply(Y, np.log(sigmoid(X * theta_))) + np.multiply((1 - Y), np.log(1 - sigmoid(X * theta_)))) \n",
    "    return M * m\n"
   ]
  },
  {
   "cell_type": "markdown",
   "metadata": {},
   "source": [
    "If your cost function is correct, your code should pass the following test."
   ]
  },
  {
   "cell_type": "code",
   "execution_count": 585,
   "metadata": {
    "pycharm": {
     "name": "#%%\n"
    }
   },
   "outputs": [
    {
     "name": "stdout",
     "output_type": "stream",
     "text": [
      "0.6931471805599453\n"
     ]
    }
   ],
   "source": [
    "theta_init = np.zeros((X.shape[1], 1))\n",
    "result = calc_log_cost(X, Y, theta_init)\n",
    "print(result) # this should be about 0.693\n",
    "assert round(result, 3) == 0.693\n",
    "# NOTE: -0.6931... is log(0.5) and with theta all zeros and\n",
    "# a binary classification, all terms in the initial cost calculation\n",
    "# will be -0.6931, and we have m of them, and we multiply by -1/m and\n",
    "# we get exactly -log(0.5)"
   ]
  },
  {
   "cell_type": "markdown",
   "metadata": {
    "pycharm": {
     "name": "#%% md\n"
    }
   },
   "source": [
    "## Gradient descent\n",
    "\n",
    "The vectorized equation for gradient descent is given by\n",
    "<br />\n",
    "\n",
    "$\\Large{\\nabla J(\\theta) \\gets \\theta_j - \\frac{2}{m}\\Big(X^T(h_\\theta(X) -Y)\\Big)}$\n",
    "\n",
    "<br />\n",
    "\n",
    "$\\Large{\\theta \\gets \\theta - \\eta\\nabla J(\\theta)}$\n",
    "<br />"
   ]
  },
  {
   "cell_type": "markdown",
   "metadata": {},
   "source": [
    "### Write a function to calculate the gradient (3 points)\n",
    "\n",
    "Write a vectorized function to calculate the gradient, given X, Y and $\\theta$ using\n",
    "<br />\n",
    "$\\Large{\\frac{2}{m}\\Big(X^T(h_\\theta(X) -Y)\\Big)}$\n",
    "<br />\n",
    "where $m$ is the number of training instances, and $\\theta$ are the model parameters."
   ]
  },
  {
   "cell_type": "code",
   "execution_count": 586,
   "metadata": {
    "pycharm": {
     "name": "#%%\n"
    }
   },
   "outputs": [],
   "source": [
    "def calc_gradient(X, Y, theta_):\n",
    "    \"\"\"Calculate gradient for gradient descent\n",
    "    You should not use loops. This should be vectorized.\n",
    "\n",
    "    X: numpy.matrix, feature vector\n",
    "    y: numpy.matrix, target / output vector\n",
    "    theta: numpy.ndarray, weight vector\n",
    "    return: numpy.matrix\n",
    "    \"\"\"\n",
    "    # Complete this function...\n",
    "\n",
    "    m = (2 / Y.size)\n",
    "    M = (X.T * (sigmoid(X * theta_) - Y)) \n",
    "    return M * m"
   ]
  },
  {
   "cell_type": "markdown",
   "metadata": {},
   "source": [
    "### Implement gradient descent (5 points)\n",
    "\n",
    "This function should take X and Y as parameters, along with the initial $\\theta$, the learning rate, $\\eta$, and the number of epochs. Here you should use a loop over epochs."
   ]
  },
  {
   "cell_type": "code",
   "execution_count": 587,
   "metadata": {
    "pycharm": {
     "name": "#%%\n"
    }
   },
   "outputs": [],
   "source": [
    "def gradient_descent(X, Y, theta_init, eta, epochs):\n",
    "    \"\"\"\n",
    "    This function returns updated theta and loss over epochs.\n",
    "\n",
    "    X: numpy.matrix, feature vector\n",
    "    y: numpy.matrix, target / output vector\n",
    "    theta: numpy.ndarray, weight vector\n",
    "    eta: float, learning rate\n",
    "    epochs: int, number of iterations through training data set\n",
    "    return: tuple of numpy.ndarray, list[float]\n",
    "    \"\"\"\n",
    "\n",
    "    losses = np.zeros(epochs)  \n",
    "    theta = np.zeros((epochs, 3, 1))\n",
    "    for i in range(0, epochs):\n",
    "        # theta_init = theta_init - eta * (calc_gradient(X, Y, theta_init))\n",
    "        theta_init = (theta_init - eta * (calc_gradient(X, Y, theta_init)))\n",
    "        \n",
    "        losses[i] = calc_log_cost(X, Y, theta_init)\n",
    "    \n",
    "    theta = theta_init\n",
    "    return theta, losses\n",
    "\n"
   ]
  },
  {
   "cell_type": "markdown",
   "metadata": {
    "pycharm": {
     "name": "#%% md\n"
    }
   },
   "source": [
    "## Train your model with gradient descent\n",
    "\n",
    "### Train model (5 points)\n",
    "\n",
    "You may have to experiment a bit with the learning rate and number of epochs."
   ]
  },
  {
   "cell_type": "code",
   "execution_count": 588,
   "metadata": {
    "pycharm": {
     "name": "#%%\n"
    }
   },
   "outputs": [],
   "source": [
    "eta = 0.01\n",
    "epochs = 150\n",
    "\n",
    "# Train the model using gradient descent here...\n",
    "theta, cost = gradient_descent(X, Y, theta_init, eta, epochs)\n",
    "\n"
   ]
  },
  {
   "cell_type": "code",
   "execution_count": 589,
   "metadata": {
    "pycharm": {
     "name": "#%%\n"
    }
   },
   "outputs": [
    {
     "name": "stdout",
     "output_type": "stream",
     "text": [
      "Theta: [[0.        ]\n",
      " [0.2412626 ]\n",
      " [0.26134116]]\n",
      "Cost: [0.68222348 0.67247735 0.66377845 0.65600966 0.64906624 0.64285494\n",
      " 0.63729297 0.63230701 0.62783224 0.62381139 0.62019394 0.61693528\n",
      " 0.61399604 0.61134147 0.60894088 0.60676712 0.60479619 0.60300682\n",
      " 0.60138016 0.59989948 0.59854993 0.59731826 0.59619273 0.59516281\n",
      " 0.59421915 0.59335337 0.59255797 0.59182624 0.59115217 0.59053033\n",
      " 0.58995589 0.58942446 0.5889321  0.58847528 0.58805079 0.58765573\n",
      " 0.58728748 0.58694369 0.58662221 0.58632108 0.58603856 0.58577304\n",
      " 0.58552306 0.58528731 0.58506457 0.58485376 0.58465388 0.58446401\n",
      " 0.58428333 0.58411107 0.58394655 0.58378914 0.58363825 0.58349335\n",
      " 0.58335397 0.58321966 0.58309001 0.58296465 0.58284324 0.58272547\n",
      " 0.58261105 0.58249971 0.58239122 0.58228536 0.58218191 0.58208069\n",
      " 0.58198153 0.58188427 0.58178876 0.58169487 0.58160247 0.58151146\n",
      " 0.58142172 0.58133316 0.5812457  0.58115924 0.58107371 0.58098905\n",
      " 0.58090518 0.58082206 0.58073962 0.58065781 0.58057659 0.58049592\n",
      " 0.58041575 0.58033605 0.58025679 0.58017792 0.58009943 0.58002129\n",
      " 0.57994348 0.57986596 0.57978872 0.57971174 0.579635   0.57955849\n",
      " 0.57948219 0.57940608 0.57933016 0.5792544  0.5791788  0.57910336\n",
      " 0.57902805 0.57895287 0.57887781 0.57880287 0.57872803 0.5786533\n",
      " 0.57857866 0.5785041  0.57842964 0.57835525 0.57828093 0.57820669\n",
      " 0.57813251 0.57805839 0.57798434 0.57791034 0.5778364  0.5777625\n",
      " 0.57768866 0.57761486 0.57754111 0.5774674  0.57739373 0.5773201\n",
      " 0.57724651 0.57717295 0.57709943 0.57702595 0.57695249 0.57687907\n",
      " 0.57680568 0.57673232 0.57665899 0.57658569 0.57651241 0.57643916\n",
      " 0.57636594 0.57629275 0.57621958 0.57614643 0.57607331 0.57600021\n",
      " 0.57592714 0.57585409 0.57578106 0.57570805 0.57563507 0.57556211]\n"
     ]
    }
   ],
   "source": [
    "print('Theta:', theta)\n",
    "print('Cost:', cost)"
   ]
  },
  {
   "cell_type": "code",
   "execution_count": 590,
   "metadata": {
    "pycharm": {
     "name": "#%%\n"
    }
   },
   "outputs": [
    {
     "data": {
      "text/plain": [
       "Text(0.5, 1.0, 'Cost vs. Training Epoch')"
      ]
     },
     "execution_count": 590,
     "metadata": {},
     "output_type": "execute_result"
    },
    {
     "data": {
      "image/png": "[encoded data removed]",
      "text/plain": [
       "<Figure size 864x576 with 1 Axes>"
      ]
     },
     "metadata": {
      "needs_background": "light"
     },
     "output_type": "display_data"
    }
   ],
   "source": [
    "fig, ax = plt.subplots(figsize=(12, 8))\n",
    "ax.plot(np.arange(epochs), cost, 'r')\n",
    "ax.set_xlabel('Training Epoch')\n",
    "ax.set_ylabel('Cost')\n",
    "ax.set_title('Cost vs. Training Epoch')"
   ]
  },
  {
   "cell_type": "markdown",
   "metadata": {
    "pycharm": {
     "name": "#%% md\n"
    }
   },
   "source": [
    "In the following Markdown cell, report your value for $\\eta$ and the number of epochs. Explain briefly how you arrived at the values for $\\eta$ and epochs. Why do you think these are good values? Justify your choices."
   ]
  },
  {
   "cell_type": "markdown",
   "metadata": {
    "pycharm": {
     "name": "#%% md\n"
    }
   },
   "source": [
    "eta = 0.0001, epochs = 15 -> the curve is too linear. <br>\n",
    "eta = 0.0001, epochs = 50 -> the curve is too linear (no change from previous analysis). <br>\n",
    "eta = 0.01, epochs = 15 -> the curve is beginning to look better, but still not great yet.  <br>\n",
    "eta = 0.01, epochs = 1500 -> the curve has some strange behavior. It drops significantly, then is relativly linear for the rest of the curve. <br>\n",
    "\n",
    "Good values for this is eta = 0.01 and epochs = 100. This results in a nice curve.  \n"
   ]
  },
  {
   "cell_type": "markdown",
   "metadata": {
    "pycharm": {
     "name": "#%% md\n"
    }
   },
   "source": [
    "At this point, you should have an optimal $\\theta$.\n",
    "<br />\n",
    "\n",
    "## Making predictions and plotting the decision boundary\n",
    "\n",
    "### Implement a function to calculate the probability of a given prediction (3 points)\n",
    "\n",
    "Hint: Use vectorized dot product and the `sigmoid` function you implemented earlier."
   ]
  },
  {
   "cell_type": "code",
   "execution_count": 591,
   "metadata": {
    "pycharm": {
     "name": "#%%\n"
    }
   },
   "outputs": [],
   "source": [
    "def predict_probability(X, theta):\n",
    "    \"\"\" We need to know the probability of a certain test sample\n",
    "    falling in a certain class. For this we need a function which\n",
    "    gives the probability. This function returns a numpy.matrix\n",
    "    of probabilities, given observations, X, and weights, theta\n",
    "    \"\"\"\n",
    "    # Complete this function...\n",
    "    return sigmoid(np.dot(X, theta))\n"
   ]
  },
  {
   "cell_type": "markdown",
   "metadata": {
    "pycharm": {
     "name": "#%% md\n"
    }
   },
   "source": [
    "### Make a prediction (3 points)\n",
    "\n",
    "Suppose, we have a sample with petal length 2.0 and petal width 0.3. Using the `predict_probability` function, find the probability of this sample being _Iris setosa_."
   ]
  },
  {
   "cell_type": "code",
   "execution_count": 592,
   "metadata": {
    "pycharm": {
     "name": "#%%\n"
    }
   },
   "outputs": [
    {
     "data": {
      "text/plain": [
       "matrix([[0.59629134],\n",
       "        [0.59629134],\n",
       "        [0.59047023],\n",
       "        [0.60208546],\n",
       "        [0.59629134],\n",
       "        [0.62590361],\n",
       "        [0.6025664 ],\n",
       "        [0.60208546],\n",
       "        [0.59629134],\n",
       "        [0.5958079 ],\n",
       "        [0.60208546],\n",
       "        [0.60785112],\n",
       "        [0.58998461],\n",
       "        [0.57236894],\n",
       "        [0.58462366],\n",
       "        [0.61453853],\n",
       "        [0.60304714],\n",
       "        [0.6025664 ],\n",
       "        [0.6197645 ],\n",
       "        [0.60832962],\n",
       "        [0.61358684],\n",
       "        [0.61453853],\n",
       "        [0.57286032],\n",
       "        [0.63200245],\n",
       "        [0.62496286],\n",
       "        [0.60785112],\n",
       "        [0.62023755],\n",
       "        [0.60208546],\n",
       "        [0.59629134],\n",
       "        [0.60785112],\n",
       "        [0.60785112],\n",
       "        [0.61453853],\n",
       "        [0.5958079 ],\n",
       "        [0.59629134],\n",
       "        [0.5958079 ],\n",
       "        [0.58462366],\n",
       "        [0.59047023],\n",
       "        [0.5958079 ],\n",
       "        [0.59047023],\n",
       "        [0.60208546],\n",
       "        [0.59677459],\n",
       "        [0.59677459],\n",
       "        [0.59047023],\n",
       "        [0.63246931],\n",
       "        [0.63713147],\n",
       "        [0.6025664 ],\n",
       "        [0.60785112],\n",
       "        [0.59629134],\n",
       "        [0.60208546],\n",
       "        [0.59629134],\n",
       "        [0.81754642],\n",
       "        [0.81422394],\n",
       "        [0.82838132],\n",
       "        [0.78664069],\n",
       "        [0.81784572],\n",
       "        [0.80618751],\n",
       "        [0.82521396],\n",
       "        [0.74221399],\n",
       "        [0.8099294 ],\n",
       "        [0.78697749],\n",
       "        [0.75133785],\n",
       "        [0.80302589],\n",
       "        [0.77318639],\n",
       "        [0.81754642],\n",
       "        [0.76999605],\n",
       "        [0.80650105],\n",
       "        [0.81422394],\n",
       "        [0.77738949],\n",
       "        [0.81422394],\n",
       "        [0.77353832],\n",
       "        [0.83596057],\n",
       "        [0.78664069],\n",
       "        [0.82838132],\n",
       "        [0.80962011],\n",
       "        [0.79853654],\n",
       "        [0.80650105],\n",
       "        [0.82111766],\n",
       "        [0.83897118],\n",
       "        [0.81422394],\n",
       "        [0.75133785],\n",
       "        [0.76928409],\n",
       "        [0.76024311],\n",
       "        [0.77808365],\n",
       "        [0.83869974],\n",
       "        [0.81422394],\n",
       "        [0.81814465],\n",
       "        [0.82141239],\n",
       "        [0.80238993],\n",
       "        [0.79066197],\n",
       "        [0.78664069],\n",
       "        [0.79821333],\n",
       "        [0.81392003],\n",
       "        [0.78222156],\n",
       "        [0.74221399],\n",
       "        [0.79462724],\n",
       "        [0.79032944],\n",
       "        [0.79462724],\n",
       "        [0.79853654],\n",
       "        [0.73326727],\n",
       "        [0.79066197]])"
      ]
     },
     "execution_count": 592,
     "metadata": {},
     "output_type": "execute_result"
    }
   ],
   "source": [
    "bias = 1.0\n",
    "petal_length = 2.0\n",
    "petal_width = 0.3\n",
    "\n",
    "# Complete code to make prediction here and print out the result, including the \n",
    "predict_probability(X, theta)\n",
    "# print(predictions)\n"
   ]
  },
  {
   "cell_type": "markdown",
   "metadata": {
    "pycharm": {
     "name": "#%% md\n"
    }
   },
   "source": [
    "## Plot the decision boundary\n",
    "\n",
    "### Write a function to calculate the boundary (3 points)"
   ]
  },
  {
   "cell_type": "code",
   "execution_count": 607,
   "metadata": {
    "pycharm": {
     "name": "#%%\n"
    }
   },
   "outputs": [],
   "source": [
    "def decision_y(x, theta):\n",
    "    # Complete this function\n",
    "    pred = predict_probability(x, theta)\n",
    "    print(pred.sum())\n",
    "\n",
    "    return pred.sum() \n",
    "    \n",
    "\n",
    "\n"
   ]
  },
  {
   "cell_type": "markdown",
   "metadata": {
    "pycharm": {
     "name": "#%% md\n"
    }
   },
   "source": [
    "### Plot the decision boundary with respect to the data (5 points)\n",
    "\n",
    "The plot shoud include the petal length on the abscissa and petal width on the ordinate. As with the earlier plot (above) use the + symbol for _Iris setosa_, and circle for _Iris versicolor_. The decision boundary should clearly separate these classes using the optimal $\\theta$ that you found above. This boundary is the line where $p = 0.5$."
   ]
  },
  {
   "cell_type": "code",
   "execution_count": 619,
   "metadata": {
    "pycharm": {
     "name": "#%%\n"
    }
   },
   "outputs": [
    {
     "name": "stdout",
     "output_type": "stream",
     "text": [
      "1.6249907254507479\n",
      "1.746118757981319\n",
      "1.8599871926084868\n",
      "1.9640156345168185\n",
      "2.0566073279216415\n",
      "[1.6249907254507479, 1.746118757981319, 1.8599871926084868, 1.9640156345168185, 2.0566073279216415]\n",
      "[1.6249907254507479, 0.8730593789906596, 0.6199957308694956, 0.4910039086292046, 0.4113214655843283]\n"
     ]
    },
    {
     "data": {
      "image/png": "[encoded data removed]",
      "text/plain": [
       "<Figure size 432x288 with 1 Axes>"
      ]
     },
     "metadata": {
      "needs_background": "light"
     },
     "output_type": "display_data"
    }
   ],
   "source": [
    "line_xs = [1, 2, 3, 4, 5]\n",
    "line_ys = [decision_y(x, theta) for x in line_xs]\n",
    "\n",
    "markers = {0: {'marker': '+',\n",
    "               'name': 'setosa'},\n",
    "           1: {'marker': 'o',\n",
    "               'name': 'versicolor'}}\n",
    "\n",
    "# Complete code for plot here...\n",
    "print(line_ys)\n",
    "points = []\n",
    "for i in range(0,5):\n",
    "    points.append(line_ys[i] / line_xs[i])\n",
    "\n",
    "print(points)\n",
    "plt.plot(points)\n",
    "plt.show()\n"
   ]
  }
 ],
 "metadata": {
  "kernelspec": {
   "display_name": "Python 3 (ipykernel)",
   "language": "python",
   "name": "python3"
  },
  "language_info": {
   "codemirror_mode": {
    "name": "ipython",
    "version": 3
   },
   "file_extension": ".py",
   "mimetype": "text/x-python",
   "name": "python",
   "nbconvert_exporter": "python",
   "pygments_lexer": "ipython3",
   "version": "3.10.1"
  }
 },
 "nbformat": 4,
 "nbformat_minor": 1
}
